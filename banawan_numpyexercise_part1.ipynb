{
 "metadata": {
  "name": ""
 },
 "nbformat": 3,
 "nbformat_minor": 0,
 "worksheets": [
  {
   "cells": [
    {
     "cell_type": "heading",
     "level": 1,
     "metadata": {},
     "source": [
      "Numpy Exercises, Part 1"
     ]
    },
    {
     "cell_type": "markdown",
     "metadata": {},
     "source": [
      "NumPy, short for Numerical Python, is the fundamental package required for high performance scientific computing and data analysis.  It is the foundation on which nearly all of the higher-level tools are built.  Here are some of the things it provide:\n",
      "\n",
      "*  ndarray --> a fast and space-efficient multidimensional array providing vectorized arithmetic operations and sophisticated broadcasting capabilities.\n",
      "*  Standard mathematical functions for fast operations on entire arrays of data without having to write loops.\n",
      "*  Tools for reading / writing data to disk and working with memory-mapped files.\n",
      "*  Linear algebra, random number generation, and Fourier transform capabilities.\n",
      "*  Tools for integrating code written in C, C++, Fortran\n",
      "    -  Important from an ecosystem point of view\n",
      "    -  Because NumPy provides an easy-to-use C API, it is very easy to pass data to external libraries written in a low-level language and also for external libraries to return data to Python as NumPy arrays.\n",
      "    -  This feature has made Python a language of choice for wrapping legacy C/C++/Fortran codebases and giving them a dynamic and easy-to-use interface."
     ]
    },
    {
     "cell_type": "markdown",
     "metadata": {},
     "source": [
      "Disclaimer:  while NumPy by itself does not provide very much high-level data analytical functionality, having an understanding of NumPy arrays and array-oriented computing will help you use tools like pandas much more effectively.  "
     ]
    },
    {
     "cell_type": "markdown",
     "metadata": {},
     "source": [
      "The main focus of this Numpy exercise Part 1:\n",
      "\n",
      "*  Fast vectorized array operations for data munging and cleaning, subsetting and filtering, transformation, and any other kinds of computations\n",
      "*  Array algorithms such as sorting, unique, and set operations\n",
      "*  Efficient descriptive statistics and aggregating/summarizing\n",
      "*  Data alignment and relational data manipulations for merging and joining togethr heterogeneous data sets\n",
      "*  Expressing conditional logic as array expressions instead of loops with if-elif-else branches\n",
      "*  Group-wise data manipulations (aggregation, transformation, function application).  "
     ]
    },
    {
     "cell_type": "markdown",
     "metadata": {},
     "source": [
      "Note:  We are using the standard NumPy convention of always using import numpy as np.  "
     ]
    },
    {
     "cell_type": "heading",
     "level": 2,
     "metadata": {},
     "source": [
      "The NumPy ndarray:  A Multidimensional Array Object"
     ]
    },
    {
     "cell_type": "heading",
     "level": 3,
     "metadata": {},
     "source": [
      "Creating ndarrays"
     ]
    },
    {
     "cell_type": "markdown",
     "metadata": {},
     "source": [
      "The easiest way to create an array is to use the array function.  This accepts any sequence-like object (including other arrays) and produces a new NumPy array containing the passed data.  A list, for example, is a good candidate for conversion:"
     ]
    },
    {
     "cell_type": "code",
     "collapsed": false,
     "input": [
      "import numpy as np"
     ],
     "language": "python",
     "metadata": {},
     "outputs": [],
     "prompt_number": 7
    },
    {
     "cell_type": "code",
     "collapsed": false,
     "input": [
      "data = [0.9454, -0.325, -0.8854, 0.5464, 0.2354, 0.9194]"
     ],
     "language": "python",
     "metadata": {},
     "outputs": [],
     "prompt_number": 5
    },
    {
     "cell_type": "code",
     "collapsed": false,
     "input": [
      "arr1 = np.array(data)\n",
      "arr1"
     ],
     "language": "python",
     "metadata": {},
     "outputs": [
      {
       "ename": "NameError",
       "evalue": "name 'np' is not defined",
       "output_type": "pyerr",
       "traceback": [
        "\u001b[0;31m---------------------------------------------------------------------------\u001b[0m\n\u001b[0;31mNameError\u001b[0m                                 Traceback (most recent call last)",
        "\u001b[0;32m<ipython-input-2-31136e0386ef>\u001b[0m in \u001b[0;36m<module>\u001b[0;34m()\u001b[0m\n\u001b[0;32m----> 1\u001b[0;31m \u001b[0marr1\u001b[0m \u001b[0;34m=\u001b[0m \u001b[0mnp\u001b[0m\u001b[0;34m.\u001b[0m\u001b[0marray\u001b[0m\u001b[0;34m(\u001b[0m\u001b[0mdata\u001b[0m\u001b[0;34m)\u001b[0m\u001b[0;34m\u001b[0m\u001b[0m\n\u001b[0m\u001b[1;32m      2\u001b[0m \u001b[0marr1\u001b[0m\u001b[0;34m\u001b[0m\u001b[0m\n",
        "\u001b[0;31mNameError\u001b[0m: name 'np' is not defined"
       ]
      }
     ],
     "prompt_number": 2
    },
    {
     "cell_type": "code",
     "collapsed": false,
     "input": [],
     "language": "python",
     "metadata": {},
     "outputs": [
      {
       "ename": "NameError",
       "evalue": "name 'arr1' is not defined",
       "output_type": "pyerr",
       "traceback": [
        "\u001b[0;31m---------------------------------------------------------------------------\u001b[0m\n\u001b[0;31mNameError\u001b[0m                                 Traceback (most recent call last)",
        "\u001b[0;32m<ipython-input-1-cbc6ad149409>\u001b[0m in \u001b[0;36m<module>\u001b[0;34m()\u001b[0m\n\u001b[0;32m----> 1\u001b[0;31m \u001b[0marr1\u001b[0m\u001b[0;34m\u001b[0m\u001b[0m\n\u001b[0m",
        "\u001b[0;31mNameError\u001b[0m: name 'arr1' is not defined"
       ]
      }
     ],
     "prompt_number": 1
    },
    {
     "cell_type": "markdown",
     "metadata": {},
     "source": [
      "\\1.  Input: arr1.  What do you see?<br>\n",
      "array([ 0.9454, -0.325 , -0.8854,  0.5464,  0.2354,  0.9194])"
     ]
    },
    {
     "cell_type": "markdown",
     "metadata": {},
     "source": [
      "Arrays enable you to perform mathematical operations on whole blocks of data using similar syntax to the equivalent operations between scalar elements:"
     ]
    },
    {
     "cell_type": "markdown",
     "metadata": {},
     "source": [
      "\\2. Input: arr1 * 10.  What do you see?<br>\n",
      "array([ 9.454, -3.25 , -8.854,  5.464,  2.354,  9.194])"
     ]
    },
    {
     "cell_type": "markdown",
     "metadata": {},
     "source": [
      "\\3.  Input: arr1 + arr1.  What do you see?<br>\n",
      "array([ 1.8908, -0.65  , -1.7708,  1.0928,  0.4708,  1.8388])"
     ]
    },
    {
     "cell_type": "markdown",
     "metadata": {},
     "source": [
      "An ndarray is a generic multidimensional container for homogeneous data (elements of the same type).  Every array has a shape, a tuple indicating the size of each dimension, and a dtype, an object describing the data type of the array.  "
     ]
    },
    {
     "cell_type": "markdown",
     "metadata": {},
     "source": [
      "\\4. Input: arr1.shape.  What do you see?\n",
      "(6,)"
     ]
    },
    {
     "cell_type": "markdown",
     "metadata": {},
     "source": [
      "\\5. Input: arr1.dtype.  What do you see?<br>\n",
      "dtype('float64')"
     ]
    },
    {
     "cell_type": "markdown",
     "metadata": {},
     "source": [
      "Nested sequences, like a list of equal-length lists, will be converted into a multidimensional array:"
     ]
    },
    {
     "cell_type": "code",
     "collapsed": false,
     "input": [
      "data2 = [[1, 2, 3, 4], [5, 6, 7, 8]]"
     ],
     "language": "python",
     "metadata": {},
     "outputs": [],
     "prompt_number": 14
    },
    {
     "cell_type": "code",
     "collapsed": false,
     "input": [
      "arr2 = np.array(data2)"
     ],
     "language": "python",
     "metadata": {},
     "outputs": [],
     "prompt_number": 15
    },
    {
     "cell_type": "code",
     "collapsed": false,
     "input": [
      "arr2"
     ],
     "language": "python",
     "metadata": {},
     "outputs": [
      {
       "metadata": {},
       "output_type": "pyout",
       "prompt_number": 16,
       "text": [
        "array([[1, 2, 3, 4],\n",
        "       [5, 6, 7, 8]])"
       ]
      }
     ],
     "prompt_number": 16
    },
    {
     "cell_type": "markdown",
     "metadata": {},
     "source": [
      "\\6.  Input: arr2.ndim.  What information does ndim give you?<br>\n",
      "2, this number being the number of dimensions."
     ]
    },
    {
     "cell_type": "markdown",
     "metadata": {},
     "source": [
      "\\7. Input: arr2.shape.  Which of the output values refer to the number of rows and columns, respectively?<br>\n",
      "(2, 4) >>> (row,col)"
     ]
    },
    {
     "cell_type": "markdown",
     "metadata": {},
     "source": [
      "\\8.  Input: arr2.dtype.  How is it different from arr1.dtype? <br>\n",
      "arr1's dtype is float64, arr2's dtype is int64"
     ]
    },
    {
     "cell_type": "markdown",
     "metadata": {},
     "source": [
      "There are a number of other functions for creating new arrays such as arange, ones, ones_like, zeros, zeros_like, empty, empty_like, eye, identity."
     ]
    },
    {
     "cell_type": "markdown",
     "metadata": {},
     "source": [
      "\\9.  Input: np.zeros(10).<br>\n",
      "np.zeros(10) returns an array containing 10 zeros."
     ]
    },
    {
     "cell_type": "markdown",
     "metadata": {},
     "source": [
      "\\10.  Input: np.zeros_like(arr2).  How is it different from np.zeros(10)?<br>\n",
      "np.zeros_like(arr2) will follow arr2's dimensions, but with zeros instead of any other values. This is different from np.zeros(10) which returns a 1 dimensional array containing zeros."
     ]
    },
    {
     "cell_type": "markdown",
     "metadata": {},
     "source": [
      "\\11. Input: np.zeros((3,6)).<br>\n",
      "np.zeros((3,6)) will create a 2 dimensional array, with 3 rows and 6 columns."
     ]
    },
    {
     "cell_type": "markdown",
     "metadata": {},
     "source": [
      "\\12.  Input: np.empty((2, 3, 2)).<br>\n",
      "np.empty((2,3,2)) will return a 3 dimensional array containing 2 columns and 3 rows each"
     ]
    },
    {
     "cell_type": "markdown",
     "metadata": {},
     "source": [
      "\\13. Input: np.arange(15).<br>\n",
      "np.arange(n) will create a 1 dimensional array containing values from 0 to n-1"
     ]
    },
    {
     "cell_type": "markdown",
     "metadata": {},
     "source": [
      "\\14.  Input: np.ones(10).<br>\n",
      "np.ones(10) will create a 1 dimensional array containing all 1s"
     ]
    },
    {
     "cell_type": "code",
     "collapsed": false,
     "input": [
      "np.ones_like(arr1)"
     ],
     "language": "python",
     "metadata": {},
     "outputs": [
      {
       "metadata": {},
       "output_type": "pyout",
       "prompt_number": 26,
       "text": [
        "array([ 1.,  1.,  1.,  1.,  1.,  1.])"
       ]
      }
     ],
     "prompt_number": 26
    },
    {
     "cell_type": "code",
     "collapsed": false,
     "input": [
      "np.eye(10)"
     ],
     "language": "python",
     "metadata": {},
     "outputs": [
      {
       "metadata": {},
       "output_type": "pyout",
       "prompt_number": 28,
       "text": [
        "array([[ 1.,  0.,  0.,  0.,  0.,  0.,  0.,  0.,  0.,  0.],\n",
        "       [ 0.,  1.,  0.,  0.,  0.,  0.,  0.,  0.,  0.,  0.],\n",
        "       [ 0.,  0.,  1.,  0.,  0.,  0.,  0.,  0.,  0.,  0.],\n",
        "       [ 0.,  0.,  0.,  1.,  0.,  0.,  0.,  0.,  0.,  0.],\n",
        "       [ 0.,  0.,  0.,  0.,  1.,  0.,  0.,  0.,  0.,  0.],\n",
        "       [ 0.,  0.,  0.,  0.,  0.,  1.,  0.,  0.,  0.,  0.],\n",
        "       [ 0.,  0.,  0.,  0.,  0.,  0.,  1.,  0.,  0.,  0.],\n",
        "       [ 0.,  0.,  0.,  0.,  0.,  0.,  0.,  1.,  0.,  0.],\n",
        "       [ 0.,  0.,  0.,  0.,  0.,  0.,  0.,  0.,  1.,  0.],\n",
        "       [ 0.,  0.,  0.,  0.,  0.,  0.,  0.,  0.,  0.,  1.]])"
       ]
      }
     ],
     "prompt_number": 28
    },
    {
     "cell_type": "code",
     "collapsed": false,
     "input": [
      "np.identity(10)"
     ],
     "language": "python",
     "metadata": {},
     "outputs": [
      {
       "metadata": {},
       "output_type": "pyout",
       "prompt_number": 29,
       "text": [
        "array([[ 1.,  0.,  0.,  0.,  0.,  0.,  0.,  0.,  0.,  0.],\n",
        "       [ 0.,  1.,  0.,  0.,  0.,  0.,  0.,  0.,  0.,  0.],\n",
        "       [ 0.,  0.,  1.,  0.,  0.,  0.,  0.,  0.,  0.,  0.],\n",
        "       [ 0.,  0.,  0.,  1.,  0.,  0.,  0.,  0.,  0.,  0.],\n",
        "       [ 0.,  0.,  0.,  0.,  1.,  0.,  0.,  0.,  0.,  0.],\n",
        "       [ 0.,  0.,  0.,  0.,  0.,  1.,  0.,  0.,  0.,  0.],\n",
        "       [ 0.,  0.,  0.,  0.,  0.,  0.,  1.,  0.,  0.,  0.],\n",
        "       [ 0.,  0.,  0.,  0.,  0.,  0.,  0.,  1.,  0.,  0.],\n",
        "       [ 0.,  0.,  0.,  0.,  0.,  0.,  0.,  0.,  1.,  0.],\n",
        "       [ 0.,  0.,  0.,  0.,  0.,  0.,  0.,  0.,  0.,  1.]])"
       ]
      }
     ],
     "prompt_number": 29
    },
    {
     "cell_type": "code",
     "collapsed": false,
     "input": [],
     "language": "python",
     "metadata": {},
     "outputs": []
    }
   ],
   "metadata": {}
  }
 ]
}